{
 "cells": [
  {
   "cell_type": "code",
   "execution_count": 10,
   "id": "3c2db027",
   "metadata": {},
   "outputs": [],
   "source": [
    "import io\n",
    "import os\n",
    "import requests\n",
    "import pandas as pd\n",
    "from google.cloud import storage\n",
    "import glob"
   ]
  },
  {
   "cell_type": "code",
   "execution_count": 11,
   "id": "9b6345f6",
   "metadata": {},
   "outputs": [],
   "source": [
    "directory_path = 'C:/Users/Abdol/Downloads/module_4_hm_data'"
   ]
  },
  {
   "cell_type": "code",
   "execution_count": 16,
   "id": "6a553de7",
   "metadata": {},
   "outputs": [],
   "source": [
    "csv_files = glob.glob(f'{directory_path}/*.csv.gz')"
   ]
  },
  {
   "cell_type": "code",
   "execution_count": 18,
   "id": "8dabf095",
   "metadata": {},
   "outputs": [],
   "source": [
    "csv_files = csv_files[1:]"
   ]
  },
  {
   "cell_type": "code",
   "execution_count": 19,
   "id": "4a5ec0dc",
   "metadata": {
    "collapsed": true
   },
   "outputs": [
    {
     "data": {
      "text/plain": [
       "['C:/Users/Abdol/Downloads/module_4_hm_data\\\\fhv_tripdata_2019-02.csv.gz',\n",
       " 'C:/Users/Abdol/Downloads/module_4_hm_data\\\\fhv_tripdata_2019-03.csv.gz',\n",
       " 'C:/Users/Abdol/Downloads/module_4_hm_data\\\\fhv_tripdata_2019-04.csv.gz',\n",
       " 'C:/Users/Abdol/Downloads/module_4_hm_data\\\\fhv_tripdata_2019-05.csv.gz',\n",
       " 'C:/Users/Abdol/Downloads/module_4_hm_data\\\\fhv_tripdata_2019-06.csv.gz',\n",
       " 'C:/Users/Abdol/Downloads/module_4_hm_data\\\\fhv_tripdata_2019-07.csv.gz',\n",
       " 'C:/Users/Abdol/Downloads/module_4_hm_data\\\\fhv_tripdata_2019-08.csv.gz',\n",
       " 'C:/Users/Abdol/Downloads/module_4_hm_data\\\\fhv_tripdata_2019-09.csv.gz',\n",
       " 'C:/Users/Abdol/Downloads/module_4_hm_data\\\\fhv_tripdata_2019-10.csv.gz',\n",
       " 'C:/Users/Abdol/Downloads/module_4_hm_data\\\\fhv_tripdata_2019-11.csv.gz',\n",
       " 'C:/Users/Abdol/Downloads/module_4_hm_data\\\\fhv_tripdata_2019-12.csv.gz',\n",
       " 'C:/Users/Abdol/Downloads/module_4_hm_data\\\\fhv_tripdata_2020-01.csv.gz',\n",
       " 'C:/Users/Abdol/Downloads/module_4_hm_data\\\\fhv_tripdata_2020-02.csv.gz',\n",
       " 'C:/Users/Abdol/Downloads/module_4_hm_data\\\\fhv_tripdata_2020-03.csv.gz',\n",
       " 'C:/Users/Abdol/Downloads/module_4_hm_data\\\\fhv_tripdata_2020-04.csv.gz',\n",
       " 'C:/Users/Abdol/Downloads/module_4_hm_data\\\\fhv_tripdata_2020-05.csv.gz',\n",
       " 'C:/Users/Abdol/Downloads/module_4_hm_data\\\\fhv_tripdata_2020-06.csv.gz',\n",
       " 'C:/Users/Abdol/Downloads/module_4_hm_data\\\\fhv_tripdata_2020-07.csv.gz',\n",
       " 'C:/Users/Abdol/Downloads/module_4_hm_data\\\\fhv_tripdata_2020-08.csv.gz',\n",
       " 'C:/Users/Abdol/Downloads/module_4_hm_data\\\\fhv_tripdata_2020-09.csv.gz',\n",
       " 'C:/Users/Abdol/Downloads/module_4_hm_data\\\\fhv_tripdata_2020-10.csv.gz',\n",
       " 'C:/Users/Abdol/Downloads/module_4_hm_data\\\\fhv_tripdata_2020-11.csv.gz',\n",
       " 'C:/Users/Abdol/Downloads/module_4_hm_data\\\\fhv_tripdata_2020-12.csv.gz',\n",
       " 'C:/Users/Abdol/Downloads/module_4_hm_data\\\\fhv_tripdata_2021-01.csv.gz',\n",
       " 'C:/Users/Abdol/Downloads/module_4_hm_data\\\\fhv_tripdata_2021-02.csv.gz',\n",
       " 'C:/Users/Abdol/Downloads/module_4_hm_data\\\\fhv_tripdata_2021-03.csv.gz',\n",
       " 'C:/Users/Abdol/Downloads/module_4_hm_data\\\\fhv_tripdata_2021-04.csv.gz',\n",
       " 'C:/Users/Abdol/Downloads/module_4_hm_data\\\\fhv_tripdata_2021-05.csv.gz',\n",
       " 'C:/Users/Abdol/Downloads/module_4_hm_data\\\\fhv_tripdata_2021-06.csv.gz',\n",
       " 'C:/Users/Abdol/Downloads/module_4_hm_data\\\\fhv_tripdata_2021-07.csv.gz']"
      ]
     },
     "execution_count": 19,
     "metadata": {},
     "output_type": "execute_result"
    }
   ],
   "source": [
    "csv_files"
   ]
  },
  {
   "cell_type": "code",
   "execution_count": 35,
   "id": "2516e372",
   "metadata": {},
   "outputs": [],
   "source": [
    "df = pd.read_csv('C:/Users/Abdol/Downloads/module_4_hm_data/fhv_tripdata_2021-01.csv.gz', compression='gzip')"
   ]
  },
  {
   "cell_type": "code",
   "execution_count": 34,
   "id": "de49e6fa",
   "metadata": {},
   "outputs": [
    {
     "name": "stdout",
     "output_type": "stream",
     "text": [
      "<class 'pandas.core.frame.DataFrame'>\n",
      "RangeIndex: 1142699 entries, 0 to 1142698\n",
      "Data columns (total 7 columns):\n",
      " #   Column                  Non-Null Count    Dtype         \n",
      "---  ------                  --------------    -----         \n",
      " 0   dispatching_base_num    1142699 non-null  string        \n",
      " 1   pickup_datetime         1142699 non-null  datetime64[ns]\n",
      " 2   dropoff_datetime        1142699 non-null  datetime64[ns]\n",
      " 3   PULocationID            1142699 non-null  int64         \n",
      " 4   DOLocationID            1142699 non-null  int64         \n",
      " 5   SR_Flag                 1142699 non-null  int64         \n",
      " 6   Affiliated_base_number  1132084 non-null  string        \n",
      "dtypes: datetime64[ns](2), int64(3), string(2)\n",
      "memory usage: 61.0 MB\n"
     ]
    }
   ],
   "source": [
    "df.info()"
   ]
  },
  {
   "cell_type": "code",
   "execution_count": 36,
   "id": "8da5a28a",
   "metadata": {},
   "outputs": [],
   "source": [
    "df['PULocationID'] = df['PULocationID'].fillna(0)\n",
    "df['DOLocationID'] = df['DOLocationID'].fillna(0)\n",
    "df['SR_Flag'] = df['SR_Flag'].fillna(0)\n",
    "df = df.rename(columns={'dropOff_datetime': 'dropoff_datetime'})"
   ]
  },
  {
   "cell_type": "code",
   "execution_count": 37,
   "id": "188e9ffa",
   "metadata": {},
   "outputs": [],
   "source": [
    "df[\"dropoff_datetime\"] = pd.to_datetime(df[\"dropoff_datetime\"])\n",
    "df[\"pickup_datetime\"] = pd.to_datetime(df[\"pickup_datetime\"])\n",
    "df.PULocationID = df.PULocationID.astype('int64')\n",
    "df.DOLocationID = df.DOLocationID.astype('int64')\n",
    "df.SR_Flag = df.SR_Flag.astype('int64')\n",
    "df.dispatching_base_num = df.dispatching_base_num.astype('string')\n",
    "df.Affiliated_base_number   = df.Affiliated_base_number.astype('string')"
   ]
  },
  {
   "cell_type": "code",
   "execution_count": null,
   "id": "a8a82339",
   "metadata": {},
   "outputs": [],
   "source": [
    "for file in csv_files:\n",
    "    try:\n",
    "        df = pd.read_csv(file, compression='gzip')\n",
    "    except Exception as e:\n",
    "        df = pd.read_csv(file_name, compression='gzip',encoding='ISO-8859-1')\n",
    "    \n",
    "\n",
    "    try:\n",
    "        df = df.rename(columns={'dropOff_datetime': 'dropoff_datetime'})\n",
    "    except Exception as e:\n",
    "        df = df.rename(columns={'dropoff_datetime': 'dropoff_datetime'})\n",
    "        \n",
    "    df['PUlocationID'] = df['PUlocationID'].fillna(0)\n",
    "    df['DOlocationID'] = df['DOlocationID'].fillna(0)\n",
    "    df['SR_Flag'] = df['SR_Flag'].fillna(0)\n",
    "    df[\"dropoff_datetime\"] = pd.to_datetime(df[\"dropoff_datetime\"])\n",
    "    df[\"pickup_datetime\"] = pd.to_datetime(df[\"pickup_datetime\"])\n",
    "    df.PUlocationID = df.PUlocationID.astype('int64')\n",
    "    df.DOlocationID = df.DOlocationID.astype('int64')\n",
    "    df.SR_Flag = df.SR_Flag.astype('int64')\n",
    "    df.dispatching_base_num = df.dispatching_base_num.astype('string')\n",
    "    df.Affiliated_base_number   = df.Affiliated_base_number.astype('string')\n",
    "    \n",
    "    \n",
    "    df.to_csv(file, compression='gzip', index=False)"
   ]
  },
  {
   "cell_type": "code",
   "execution_count": 33,
   "id": "078fe586",
   "metadata": {},
   "outputs": [
    {
     "ename": "AttributeError",
     "evalue": "'DataFrame' object has no attribute 'PUlocationID'",
     "output_type": "error",
     "traceback": [
      "\u001b[1;31m---------------------------------------------------------------------------\u001b[0m",
      "\u001b[1;31mAttributeError\u001b[0m                            Traceback (most recent call last)",
      "\u001b[1;32m~\\AppData\\Local\\Temp\\ipykernel_31732\\3999982930.py\u001b[0m in \u001b[0;36m?\u001b[1;34m()\u001b[0m\n\u001b[0;32m      1\u001b[0m \u001b[0mdf\u001b[0m\u001b[1;33m[\u001b[0m\u001b[1;34m\"dropoff_datetime\"\u001b[0m\u001b[1;33m]\u001b[0m \u001b[1;33m=\u001b[0m \u001b[0mpd\u001b[0m\u001b[1;33m.\u001b[0m\u001b[0mto_datetime\u001b[0m\u001b[1;33m(\u001b[0m\u001b[0mdf\u001b[0m\u001b[1;33m[\u001b[0m\u001b[1;34m\"dropoff_datetime\"\u001b[0m\u001b[1;33m]\u001b[0m\u001b[1;33m)\u001b[0m\u001b[1;33m\u001b[0m\u001b[1;33m\u001b[0m\u001b[0m\n\u001b[0;32m      2\u001b[0m \u001b[0mdf\u001b[0m\u001b[1;33m[\u001b[0m\u001b[1;34m\"pickup_datetime\"\u001b[0m\u001b[1;33m]\u001b[0m \u001b[1;33m=\u001b[0m \u001b[0mpd\u001b[0m\u001b[1;33m.\u001b[0m\u001b[0mto_datetime\u001b[0m\u001b[1;33m(\u001b[0m\u001b[0mdf\u001b[0m\u001b[1;33m[\u001b[0m\u001b[1;34m\"pickup_datetime\"\u001b[0m\u001b[1;33m]\u001b[0m\u001b[1;33m)\u001b[0m\u001b[1;33m\u001b[0m\u001b[1;33m\u001b[0m\u001b[0m\n\u001b[1;32m----> 3\u001b[1;33m \u001b[0mdf\u001b[0m\u001b[1;33m.\u001b[0m\u001b[0mPUlocationID\u001b[0m \u001b[1;33m=\u001b[0m \u001b[0mdf\u001b[0m\u001b[1;33m.\u001b[0m\u001b[0mPUlocationID\u001b[0m\u001b[1;33m.\u001b[0m\u001b[0mastype\u001b[0m\u001b[1;33m(\u001b[0m\u001b[1;34m'int64'\u001b[0m\u001b[1;33m)\u001b[0m\u001b[1;33m\u001b[0m\u001b[1;33m\u001b[0m\u001b[0m\n\u001b[0m\u001b[0;32m      4\u001b[0m \u001b[0mdf\u001b[0m\u001b[1;33m.\u001b[0m\u001b[0mDOlocationID\u001b[0m \u001b[1;33m=\u001b[0m \u001b[0mdf\u001b[0m\u001b[1;33m.\u001b[0m\u001b[0mDOlocationID\u001b[0m\u001b[1;33m.\u001b[0m\u001b[0mastype\u001b[0m\u001b[1;33m(\u001b[0m\u001b[1;34m'int64'\u001b[0m\u001b[1;33m)\u001b[0m\u001b[1;33m\u001b[0m\u001b[1;33m\u001b[0m\u001b[0m\n\u001b[0;32m      5\u001b[0m \u001b[0mdf\u001b[0m\u001b[1;33m.\u001b[0m\u001b[0mSR_Flag\u001b[0m \u001b[1;33m=\u001b[0m \u001b[0mdf\u001b[0m\u001b[1;33m.\u001b[0m\u001b[0mSR_Flag\u001b[0m\u001b[1;33m.\u001b[0m\u001b[0mastype\u001b[0m\u001b[1;33m(\u001b[0m\u001b[1;34m'int64'\u001b[0m\u001b[1;33m)\u001b[0m\u001b[1;33m\u001b[0m\u001b[1;33m\u001b[0m\u001b[0m\n\u001b[0;32m      6\u001b[0m \u001b[0mdf\u001b[0m\u001b[1;33m.\u001b[0m\u001b[0mdispatching_base_num\u001b[0m \u001b[1;33m=\u001b[0m \u001b[0mdf\u001b[0m\u001b[1;33m.\u001b[0m\u001b[0mdispatching_base_num\u001b[0m\u001b[1;33m.\u001b[0m\u001b[0mastype\u001b[0m\u001b[1;33m(\u001b[0m\u001b[1;34m'string'\u001b[0m\u001b[1;33m)\u001b[0m\u001b[1;33m\u001b[0m\u001b[1;33m\u001b[0m\u001b[0m\n",
      "\u001b[1;32m~\\anaconda3\\Lib\\site-packages\\pandas\\core\\generic.py\u001b[0m in \u001b[0;36m?\u001b[1;34m(self, name)\u001b[0m\n\u001b[0;32m   5985\u001b[0m             \u001b[1;32mand\u001b[0m \u001b[0mname\u001b[0m \u001b[1;32mnot\u001b[0m \u001b[1;32min\u001b[0m \u001b[0mself\u001b[0m\u001b[1;33m.\u001b[0m\u001b[0m_accessors\u001b[0m\u001b[1;33m\u001b[0m\u001b[1;33m\u001b[0m\u001b[0m\n\u001b[0;32m   5986\u001b[0m             \u001b[1;32mand\u001b[0m \u001b[0mself\u001b[0m\u001b[1;33m.\u001b[0m\u001b[0m_info_axis\u001b[0m\u001b[1;33m.\u001b[0m\u001b[0m_can_hold_identifiers_and_holds_name\u001b[0m\u001b[1;33m(\u001b[0m\u001b[0mname\u001b[0m\u001b[1;33m)\u001b[0m\u001b[1;33m\u001b[0m\u001b[1;33m\u001b[0m\u001b[0m\n\u001b[0;32m   5987\u001b[0m         ):\n\u001b[0;32m   5988\u001b[0m             \u001b[1;32mreturn\u001b[0m \u001b[0mself\u001b[0m\u001b[1;33m[\u001b[0m\u001b[0mname\u001b[0m\u001b[1;33m]\u001b[0m\u001b[1;33m\u001b[0m\u001b[1;33m\u001b[0m\u001b[0m\n\u001b[1;32m-> 5989\u001b[1;33m         \u001b[1;32mreturn\u001b[0m \u001b[0mobject\u001b[0m\u001b[1;33m.\u001b[0m\u001b[0m__getattribute__\u001b[0m\u001b[1;33m(\u001b[0m\u001b[0mself\u001b[0m\u001b[1;33m,\u001b[0m \u001b[0mname\u001b[0m\u001b[1;33m)\u001b[0m\u001b[1;33m\u001b[0m\u001b[1;33m\u001b[0m\u001b[0m\n\u001b[0m",
      "\u001b[1;31mAttributeError\u001b[0m: 'DataFrame' object has no attribute 'PUlocationID'"
     ]
    }
   ],
   "source": [
    "df[\"dropoff_datetime\"] = pd.to_datetime(df[\"dropoff_datetime\"])\n",
    "df[\"pickup_datetime\"] = pd.to_datetime(df[\"pickup_datetime\"])\n",
    "df.PUlocationID = df.PUlocationID.astype('int64')\n",
    "df.DOlocationID = df.DOlocationID.astype('int64')\n",
    "df.SR_Flag = df.SR_Flag.astype('int64')\n",
    "df.dispatching_base_num = df.dispatching_base_num.astype('string')\n",
    "df.Affiliated_base_number   = df.Affiliated_base_number.astype('string')"
   ]
  },
  {
   "cell_type": "code",
   "execution_count": 8,
   "id": "3bb1a311",
   "metadata": {
    "collapsed": true
   },
   "outputs": [
    {
     "name": "stdout",
     "output_type": "stream",
     "text": [
      "<class 'pandas.core.frame.DataFrame'>\n",
      "RangeIndex: 23143222 entries, 0 to 23143221\n",
      "Data columns (total 7 columns):\n",
      " #   Column                  Dtype         \n",
      "---  ------                  -----         \n",
      " 0   dispatching_base_num    string        \n",
      " 1   pickup_datetime         datetime64[ns]\n",
      " 2   dropoff_datetime        datetime64[ns]\n",
      " 3   PUlocationID            int64         \n",
      " 4   DOlocationID            int64         \n",
      " 5   SR_Flag                 int64         \n",
      " 6   Affiliated_base_number  string        \n",
      "dtypes: datetime64[ns](2), int64(3), string(2)\n",
      "memory usage: 1.2 GB\n"
     ]
    }
   ],
   "source": [
    "df.info()"
   ]
  },
  {
   "cell_type": "code",
   "execution_count": 38,
   "id": "452331b6",
   "metadata": {},
   "outputs": [],
   "source": [
    "df.to_csv('fhv_tripdata_2021-01.csv.gz', compression='gzip', index=False)"
   ]
  }
 ],
 "metadata": {
  "kernelspec": {
   "display_name": "Python 3 (ipykernel)",
   "language": "python",
   "name": "python3"
  },
  "language_info": {
   "codemirror_mode": {
    "name": "ipython",
    "version": 3
   },
   "file_extension": ".py",
   "mimetype": "text/x-python",
   "name": "python",
   "nbconvert_exporter": "python",
   "pygments_lexer": "ipython3",
   "version": "3.11.5"
  }
 },
 "nbformat": 4,
 "nbformat_minor": 5
}
